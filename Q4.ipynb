{
 "cells": [
  {
   "cell_type": "markdown",
   "metadata": {},
   "source": [
    "$\\textbf{Q4}$\n",
    "\n",
    "A beam 2 meter long has linear mass density $\\lambda(x) = x^2$\n",
    ", where x is measured\n",
    "from one of the ends.\n",
    "\n",
    "Let's say the beam is $L$ meter long then in general,\n",
    "So the center of Mass will be at $$X_{CM}=\\frac{\\displaystyle{\\int_{0}^L x dm }}{\\displaystyle{\\int_{0}^L dm }}$$\n",
    "\n",
    "Now here $L=2$ and \n",
    "\n",
    "$$dm=\\lambda(x)dx$$\n",
    "$$dm=x^2 dx$$\n",
    "\n",
    "Hence, the center of mass will be at \n",
    "$$X_{CM}=\\frac{\\displaystyle{\\int_{0}^2 x \\cdot x^2 dx }}{\\displaystyle{\\int_{0}^2 x^2 dx }}$$"
   ]
  },
  {
   "cell_type": "code",
   "execution_count": 5,
   "metadata": {},
   "outputs": [
    {
     "name": "stdout",
     "output_type": "stream",
     "text": [
      "The center of mass will be at, 1.50000 meters from the end of the beam. Evaluated by Midpoint method.\n",
      "The center of mass will be at, 1.50000 meters from the end of the beam. Evaluated by Trapezoidal method.\n",
      "The center of mass will be at, 1.50000 meters from the end of the beam. Evaluated by Simpson method.\n"
     ]
    }
   ],
   "source": [
    "from My_Lib import*\n",
    "import math\n",
    "def f_1(x):\n",
    "    return x**3\n",
    "def f_2(x):\n",
    "    return x**2\n",
    "\n",
    "#solving the problem using three methods\n",
    "sol_mid_1 = integration_midpoint(f_1,2,0,500000)\n",
    "sol_mid_2 = integration_midpoint(f_2,2,0,500000)\n",
    "\n",
    "sol_trap_1 = integration_trap(f_1,2,0,500000)\n",
    "sol_trap_2 =integration_trap(f_2,2,0,500000)\n",
    "\n",
    "sol_simp_1 = integral_simp(f_1,2,0,500000)\n",
    "sol_simp_2 = integral_simp(f_2,2,0,500000)\n",
    "print(\"The center of mass will be at,\", \"%.5f\"%(sol_mid_1/sol_mid_2),\"meters from the end of the beam. Evaluated by Midpoint method.\" )\n",
    "print(\"The center of mass will be at,\", \"%.5f\"%(sol_trap_1/sol_trap_2),\"meters from the end of the beam. Evaluated by Trapezoidal method.\" )\n",
    "print(\"The center of mass will be at,\", \"%.5f\"%(sol_simp_1/sol_simp_2),\"meters from the end of the beam. Evaluated by Simpson method.\" )\n"
   ]
  }
 ],
 "metadata": {
  "interpreter": {
   "hash": "2e5e1f8e546ab1b895d222b8f24baeb07cb94671923e1f3306e7f49117bb6511"
  },
  "kernelspec": {
   "display_name": "Python 3.9.6 64-bit",
   "language": "python",
   "name": "python3"
  },
  "language_info": {
   "codemirror_mode": {
    "name": "ipython",
    "version": 3
   },
   "file_extension": ".py",
   "mimetype": "text/x-python",
   "name": "python",
   "nbconvert_exporter": "python",
   "pygments_lexer": "ipython3",
   "version": "3.9.6"
  },
  "orig_nbformat": 4
 },
 "nbformat": 4,
 "nbformat_minor": 2
}
