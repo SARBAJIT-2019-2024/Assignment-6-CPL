{
 "cells": [
  {
   "cell_type": "markdown",
   "metadata": {},
   "source": [
    "$\\textbf{Q2}$\n",
    "\n",
    "Numerically integrate the following using Midpoint, Trapezoidal and Simpson\n",
    "techniques with maximum error of $0.001$.\n",
    "\n",
    "$$\\displaystyle{\\int_{0}^1 x\\sqrt{1+x}dx}$$"
   ]
  },
  {
   "cell_type": "code",
   "execution_count": 4,
   "metadata": {},
   "outputs": [
    {
     "name": "stdout",
     "output_type": "stream",
     "text": [
      "Hence the value of the integral by three methods are\n",
      "Midpoint Method:  0.643137698010569 \n",
      "Trapezoid Method:  0.6444300126935937 \n",
      "Simpson Method:  0.6439505508593788\n",
      "Original Analytic value is 0.643790283299492\n"
     ]
    }
   ],
   "source": [
    "from My_Lib import*\n",
    "import math\n",
    "\n",
    "def f(x):\n",
    "    return x*math.sqrt(1+x)\n",
    "\n",
    "\n",
    "#defining error expressions for three methods \n",
    "\n",
    "def error_mid(f_X,upper_limit,lower_limit):\n",
    "    N = (((upper_limit-lower_limit)**3/(24*0.001))*abs(f_X(0)))**0.5\n",
    "    return N\n",
    "\n",
    "def error_trap(f_X,upper_limit,lower_limit):\n",
    "    N = (((upper_limit-lower_limit)**3/(12*0.001))*abs(f_X(0)))**0.5\n",
    "    return N\n",
    "\n",
    "def error_simp(f_X,upper_limit,lower_limit):\n",
    "    N = (((upper_limit-lower_limit)**5/(180*0.001))*abs(f_X(0)))**0.25\n",
    "    return N\n",
    "   \n",
    "\n",
    "\n",
    "# manually calculated expressions\n",
    "# defining  Second derivative of f(x)\n",
    "def f_2(x):\n",
    "    return (3*x+4)/(4*(x+1)**(3/2))\n",
    "\n",
    "# defining Fourth derivative of f(x)\n",
    "def f_4(x):\n",
    "    return (9*x+24)/(16*(x+1)**(7/2))\n",
    "\n",
    "\n",
    "N_mid = math.ceil(error_mid(f_2,1,0))\n",
    "N_trap = math.ceil(error_trap(f_2,1,0))\n",
    "N_simp = math.ceil(error_simp(f_4,1,0))\n",
    "\n",
    "\n",
    "\n",
    "\n",
    "sol_mid = integration_midpoint(f, 1,0, N_mid)\n",
    "sol_trap = integration_trap(f,1,0, N_trap)\n",
    "sol_simp = integral_simp(f,1,0, N_simp)\n",
    "\n",
    "print(\"Hence the value of the integral by three methods are\")\n",
    "print(\"Midpoint Method: \", sol_mid, \"\\nTrapezoid Method: \", sol_trap, \"\\nSimpson Method: \", sol_simp) \n",
    "print(\"Original Analytic value is 0.643790283299492\")"
   ]
  }
 ],
 "metadata": {
  "interpreter": {
   "hash": "2e5e1f8e546ab1b895d222b8f24baeb07cb94671923e1f3306e7f49117bb6511"
  },
  "kernelspec": {
   "display_name": "Python 3.9.6 64-bit",
   "name": "python3"
  },
  "language_info": {
   "codemirror_mode": {
    "name": "ipython",
    "version": 3
   },
   "file_extension": ".py",
   "mimetype": "text/x-python",
   "name": "python",
   "nbconvert_exporter": "python",
   "pygments_lexer": "ipython3",
   "version": "3.9.6"
  },
  "orig_nbformat": 4
 },
 "nbformat": 4,
 "nbformat_minor": 2
}
